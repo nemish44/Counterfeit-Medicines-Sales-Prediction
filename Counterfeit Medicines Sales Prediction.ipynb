{
 "cells": [
  {
   "cell_type": "code",
   "execution_count": 1,
   "metadata": {},
   "outputs": [],
   "source": [
    "\n",
    "import os\n",
    "import pandas as pd\n",
    "import numpy as np\n",
    "import math\n",
    "from sklearn.model_selection import train_test_split\n",
    "from sklearn.linear_model import LinearRegression, Lasso, Ridge\n",
    "from sklearn.metrics import mean_absolute_error\n",
    "from sklearn.metrics import mean_squared_error\n",
    "from sklearn.model_selection import KFold\n",
    "%matplotlib inline"
   ]
  },
  {
   "cell_type": "code",
   "execution_count": 4,
   "metadata": {},
   "outputs": [],
   "source": [
    "cf_train=pd.read_csv('counterfeit_train.csv')\n",
    "cf_test=pd.read_csv('counterfeit_test.csv')"
   ]
  },
  {
   "cell_type": "code",
   "execution_count": 5,
   "metadata": {},
   "outputs": [],
   "source": [
    "\n",
    "cf_test['Counterfeit_Sales']=np.nan\n",
    "cf_train['data']='train'\n",
    "cf_test['data']='test'\n",
    "cf_test=cf_test[cf_train.columns]\n",
    "cf_all=pd.concat([cf_train,cf_test],axis=0,ignore_index=True)"
   ]
  },
  {
   "cell_type": "code",
   "execution_count": 6,
   "metadata": {},
   "outputs": [
    {
     "data": {
      "text/html": [
       "<div>\n",
       "<style scoped>\n",
       "    .dataframe tbody tr th:only-of-type {\n",
       "        vertical-align: middle;\n",
       "    }\n",
       "\n",
       "    .dataframe tbody tr th {\n",
       "        vertical-align: top;\n",
       "    }\n",
       "\n",
       "    .dataframe thead th {\n",
       "        text-align: right;\n",
       "    }\n",
       "</style>\n",
       "<table border=\"1\" class=\"dataframe\">\n",
       "  <thead>\n",
       "    <tr style=\"text-align: right;\">\n",
       "      <th></th>\n",
       "      <th>Medicine_ID</th>\n",
       "      <th>Counterfeit_Weight</th>\n",
       "      <th>DistArea_ID</th>\n",
       "      <th>Active_Since</th>\n",
       "      <th>Medicine_MRP</th>\n",
       "      <th>Medicine_Type</th>\n",
       "      <th>SidEffect_Level</th>\n",
       "      <th>Availability_rating</th>\n",
       "      <th>Area_Type</th>\n",
       "      <th>Area_City_Type</th>\n",
       "      <th>Area_dist_level</th>\n",
       "      <th>Counterfeit_Sales</th>\n",
       "      <th>data</th>\n",
       "    </tr>\n",
       "  </thead>\n",
       "  <tbody>\n",
       "    <tr>\n",
       "      <td>0</td>\n",
       "      <td>RRA15</td>\n",
       "      <td>13.100</td>\n",
       "      <td>Area046</td>\n",
       "      <td>1995</td>\n",
       "      <td>160.2366</td>\n",
       "      <td>Antimalarial</td>\n",
       "      <td>critical</td>\n",
       "      <td>0.070422</td>\n",
       "      <td>DownTown</td>\n",
       "      <td>Tier 1</td>\n",
       "      <td>Small</td>\n",
       "      <td>1775.5026</td>\n",
       "      <td>train</td>\n",
       "    </tr>\n",
       "    <tr>\n",
       "      <td>1</td>\n",
       "      <td>YVV26</td>\n",
       "      <td>NaN</td>\n",
       "      <td>Area027</td>\n",
       "      <td>1983</td>\n",
       "      <td>110.4384</td>\n",
       "      <td>Mstablizers</td>\n",
       "      <td>mild</td>\n",
       "      <td>0.013000</td>\n",
       "      <td>CityLimits</td>\n",
       "      <td>Tier 3</td>\n",
       "      <td>Medium</td>\n",
       "      <td>3069.1520</td>\n",
       "      <td>train</td>\n",
       "    </tr>\n",
       "    <tr>\n",
       "      <td>2</td>\n",
       "      <td>LJC15</td>\n",
       "      <td>9.025</td>\n",
       "      <td>Area046</td>\n",
       "      <td>1995</td>\n",
       "      <td>259.4092</td>\n",
       "      <td>Cardiac</td>\n",
       "      <td>mild</td>\n",
       "      <td>0.060783</td>\n",
       "      <td>DownTown</td>\n",
       "      <td>Tier 1</td>\n",
       "      <td>Small</td>\n",
       "      <td>2603.0920</td>\n",
       "      <td>train</td>\n",
       "    </tr>\n",
       "    <tr>\n",
       "      <td>3</td>\n",
       "      <td>GWC40</td>\n",
       "      <td>11.800</td>\n",
       "      <td>Area046</td>\n",
       "      <td>1995</td>\n",
       "      <td>99.9830</td>\n",
       "      <td>OralContraceptives</td>\n",
       "      <td>mild</td>\n",
       "      <td>0.065555</td>\n",
       "      <td>DownTown</td>\n",
       "      <td>Tier 1</td>\n",
       "      <td>Small</td>\n",
       "      <td>1101.7130</td>\n",
       "      <td>train</td>\n",
       "    </tr>\n",
       "    <tr>\n",
       "      <td>4</td>\n",
       "      <td>QMN13</td>\n",
       "      <td>NaN</td>\n",
       "      <td>Area019</td>\n",
       "      <td>1983</td>\n",
       "      <td>56.4402</td>\n",
       "      <td>Hreplacements</td>\n",
       "      <td>critical</td>\n",
       "      <td>0.248859</td>\n",
       "      <td>MidTownResidential</td>\n",
       "      <td>Tier 1</td>\n",
       "      <td>Small</td>\n",
       "      <td>158.9402</td>\n",
       "      <td>train</td>\n",
       "    </tr>\n",
       "  </tbody>\n",
       "</table>\n",
       "</div>"
      ],
      "text/plain": [
       "  Medicine_ID  Counterfeit_Weight DistArea_ID  Active_Since  Medicine_MRP  \\\n",
       "0       RRA15              13.100     Area046          1995      160.2366   \n",
       "1       YVV26                 NaN     Area027          1983      110.4384   \n",
       "2       LJC15               9.025     Area046          1995      259.4092   \n",
       "3       GWC40              11.800     Area046          1995       99.9830   \n",
       "4       QMN13                 NaN     Area019          1983       56.4402   \n",
       "\n",
       "        Medicine_Type SidEffect_Level  Availability_rating  \\\n",
       "0        Antimalarial        critical             0.070422   \n",
       "1         Mstablizers            mild             0.013000   \n",
       "2             Cardiac            mild             0.060783   \n",
       "3  OralContraceptives            mild             0.065555   \n",
       "4       Hreplacements        critical             0.248859   \n",
       "\n",
       "            Area_Type Area_City_Type Area_dist_level  Counterfeit_Sales   data  \n",
       "0            DownTown         Tier 1           Small          1775.5026  train  \n",
       "1          CityLimits         Tier 3          Medium          3069.1520  train  \n",
       "2            DownTown         Tier 1           Small          2603.0920  train  \n",
       "3            DownTown         Tier 1           Small          1101.7130  train  \n",
       "4  MidTownResidential         Tier 1           Small           158.9402  train  "
      ]
     },
     "execution_count": 6,
     "metadata": {},
     "output_type": "execute_result"
    }
   ],
   "source": [
    "cf_all.head(5)"
   ]
  },
  {
   "cell_type": "code",
   "execution_count": 7,
   "metadata": {},
   "outputs": [
    {
     "data": {
      "text/plain": [
       "Medicine_ID             object\n",
       "Counterfeit_Weight     float64\n",
       "DistArea_ID             object\n",
       "Active_Since             int64\n",
       "Medicine_MRP           float64\n",
       "Medicine_Type           object\n",
       "SidEffect_Level         object\n",
       "Availability_rating    float64\n",
       "Area_Type               object\n",
       "Area_City_Type          object\n",
       "Area_dist_level         object\n",
       "Counterfeit_Sales      float64\n",
       "data                    object\n",
       "dtype: object"
      ]
     },
     "execution_count": 7,
     "metadata": {},
     "output_type": "execute_result"
    }
   ],
   "source": [
    "cf_all.dtypes"
   ]
  },
  {
   "cell_type": "code",
   "execution_count": 8,
   "metadata": {},
   "outputs": [
    {
     "data": {
      "text/plain": [
       "mild        5517\n",
       "critical    3006\n",
       "Name: SidEffect_Level, dtype: int64"
      ]
     },
     "execution_count": 8,
     "metadata": {},
     "output_type": "execute_result"
    }
   ],
   "source": [
    "cf_all['SidEffect_Level'].value_counts()"
   ]
  },
  {
   "cell_type": "code",
   "execution_count": 9,
   "metadata": {},
   "outputs": [],
   "source": [
    "cf_all['sideffect']=np.where(cf_all['SidEffect_Level']=='mild',1,0)\n",
    "cf_all=cf_all.drop('SidEffect_Level',axis=1)"
   ]
  },
  {
   "cell_type": "code",
   "execution_count": 10,
   "metadata": {},
   "outputs": [
    {
     "data": {
      "text/plain": [
       "DownTown              5577\n",
       "MidTownResidential    1083\n",
       "CityLimits             935\n",
       "Industrial             928\n",
       "Name: Area_Type, dtype: int64"
      ]
     },
     "execution_count": 10,
     "metadata": {},
     "output_type": "execute_result"
    }
   ],
   "source": [
    "cf_all['Area_Type'].value_counts()"
   ]
  },
  {
   "cell_type": "code",
   "execution_count": 11,
   "metadata": {},
   "outputs": [],
   "source": [
    "cf_all['DT']=np.where(cf_all['Area_Type']=='DownTown',1,0)\n",
    "cf_all['MTR']=np.where(cf_all['Area_Type']=='MidTownResidential',1,0)\n",
    "cf_all['AreaName']=np.where(cf_all['Area_Type']=='CityLimits',1,0)\n",
    "cf_all=cf_all.drop('Area_Type',axis=1)"
   ]
  },
  {
   "cell_type": "code",
   "execution_count": 12,
   "metadata": {},
   "outputs": [
    {
     "data": {
      "text/plain": [
       "Medicine_ID             object\n",
       "Counterfeit_Weight     float64\n",
       "DistArea_ID             object\n",
       "Active_Since             int64\n",
       "Medicine_MRP           float64\n",
       "Medicine_Type           object\n",
       "Availability_rating    float64\n",
       "Area_City_Type          object\n",
       "Area_dist_level         object\n",
       "Counterfeit_Sales      float64\n",
       "data                    object\n",
       "sideffect                int32\n",
       "DT                       int32\n",
       "MTR                      int32\n",
       "AreaName                 int32\n",
       "dtype: object"
      ]
     },
     "execution_count": 12,
     "metadata": {},
     "output_type": "execute_result"
    }
   ],
   "source": [
    "cf_all.dtypes"
   ]
  },
  {
   "cell_type": "code",
   "execution_count": 13,
   "metadata": {},
   "outputs": [
    {
     "data": {
      "text/plain": [
       "Tier 3    3350\n",
       "Tier 2    2785\n",
       "Tier 1    2388\n",
       "Name: Area_City_Type, dtype: int64"
      ]
     },
     "execution_count": 13,
     "metadata": {},
     "output_type": "execute_result"
    }
   ],
   "source": [
    "\n",
    "cf_all['Area_City_Type'].value_counts()"
   ]
  },
  {
   "cell_type": "code",
   "execution_count": 14,
   "metadata": {},
   "outputs": [],
   "source": [
    "cf_all['T3']=np.where(cf_all['Area_City_Type']=='Tier 3',1,0)\n",
    "cf_all['T2']=np.where(cf_all['Area_City_Type']=='Tier 2',1,0)\n",
    "cf_all=cf_all.drop(['Area_City_Type'],axis=1)"
   ]
  },
  {
   "cell_type": "code",
   "execution_count": 15,
   "metadata": {},
   "outputs": [
    {
     "data": {
      "text/plain": [
       "Medicine_ID             object\n",
       "Counterfeit_Weight     float64\n",
       "DistArea_ID             object\n",
       "Active_Since             int64\n",
       "Medicine_MRP           float64\n",
       "Medicine_Type           object\n",
       "Availability_rating    float64\n",
       "Area_dist_level         object\n",
       "Counterfeit_Sales      float64\n",
       "data                    object\n",
       "sideffect                int32\n",
       "DT                       int32\n",
       "MTR                      int32\n",
       "AreaName                 int32\n",
       "T3                       int32\n",
       "T2                       int32\n",
       "dtype: object"
      ]
     },
     "execution_count": 15,
     "metadata": {},
     "output_type": "execute_result"
    }
   ],
   "source": [
    "cf_all.dtypes"
   ]
  },
  {
   "cell_type": "code",
   "execution_count": 16,
   "metadata": {},
   "outputs": [
    {
     "data": {
      "text/plain": [
       "Medium     2793\n",
       "Unknown    2410\n",
       "Small      2388\n",
       "High        932\n",
       "Name: Area_dist_level, dtype: int64"
      ]
     },
     "execution_count": 16,
     "metadata": {},
     "output_type": "execute_result"
    }
   ],
   "source": [
    "cf_all['Area_dist_level'].value_counts()"
   ]
  },
  {
   "cell_type": "code",
   "execution_count": 17,
   "metadata": {},
   "outputs": [],
   "source": [
    "cf_all['medium']=np.where(cf_all['Area_dist_level']=='Medium',1,0)\n",
    "cf_all['unknown']=np.where(cf_all['Area_dist_level']=='Unknown',1,0)\n",
    "cf_all['small']=np.where(cf_all['Area_dist_level']=='Small',1,0)\n",
    "cf_all=cf_all.drop('Area_dist_level',axis=1)"
   ]
  },
  {
   "cell_type": "code",
   "execution_count": 18,
   "metadata": {},
   "outputs": [],
   "source": [
    "\n",
    "cat_cols=cf_all.select_dtypes(['object']).columns"
   ]
  },
  {
   "cell_type": "code",
   "execution_count": 19,
   "metadata": {},
   "outputs": [
    {
     "data": {
      "text/plain": [
       "Index(['Medicine_ID', 'DistArea_ID', 'Medicine_Type', 'data'], dtype='object')"
      ]
     },
     "execution_count": 19,
     "metadata": {},
     "output_type": "execute_result"
    }
   ],
   "source": [
    "cat_cols"
   ]
  },
  {
   "cell_type": "code",
   "execution_count": 20,
   "metadata": {},
   "outputs": [
    {
     "data": {
      "text/plain": [
       "Antibiotics           1232\n",
       "Hreplacements         1200\n",
       "Antiseptics            910\n",
       "OralContraceptives     856\n",
       "Antipyretics           682\n",
       "Cardiac                649\n",
       "Mstablizers            648\n",
       "Tranquilizers          520\n",
       "Analgesics             445\n",
       "Antimalarial           425\n",
       "Antacids               251\n",
       "Statins                214\n",
       "MuscleRelaxants        169\n",
       "Antifungal             148\n",
       "Stimulants             110\n",
       "Antiviral               64\n",
       "Name: Medicine_Type, dtype: int64"
      ]
     },
     "execution_count": 20,
     "metadata": {},
     "output_type": "execute_result"
    }
   ],
   "source": [
    "\n",
    "cf_all['Medicine_Type'].value_counts()"
   ]
  },
  {
   "cell_type": "code",
   "execution_count": 21,
   "metadata": {},
   "outputs": [],
   "source": [
    "MT_dummies=pd.get_dummies(cf_all['Medicine_Type'],prefix='MM')"
   ]
  },
  {
   "cell_type": "code",
   "execution_count": 22,
   "metadata": {},
   "outputs": [],
   "source": [
    "\n",
    "cf_all=pd.concat([cf_all,MT_dummies],axis=1)\n",
    "cf_all=cf_all.drop(['Medicine_Type','MM_Antiviral'],axis=1)"
   ]
  },
  {
   "cell_type": "code",
   "execution_count": 23,
   "metadata": {},
   "outputs": [
    {
     "data": {
      "text/plain": [
       "Medicine_ID               object\n",
       "Counterfeit_Weight       float64\n",
       "DistArea_ID               object\n",
       "Active_Since               int64\n",
       "Medicine_MRP             float64\n",
       "Availability_rating      float64\n",
       "Counterfeit_Sales        float64\n",
       "data                      object\n",
       "sideffect                  int32\n",
       "DT                         int32\n",
       "MTR                        int32\n",
       "AreaName                   int32\n",
       "T3                         int32\n",
       "T2                         int32\n",
       "medium                     int32\n",
       "unknown                    int32\n",
       "small                      int32\n",
       "MM_Analgesics              uint8\n",
       "MM_Antacids                uint8\n",
       "MM_Antibiotics             uint8\n",
       "MM_Antifungal              uint8\n",
       "MM_Antimalarial            uint8\n",
       "MM_Antipyretics            uint8\n",
       "MM_Antiseptics             uint8\n",
       "MM_Cardiac                 uint8\n",
       "MM_Hreplacements           uint8\n",
       "MM_Mstablizers             uint8\n",
       "MM_MuscleRelaxants         uint8\n",
       "MM_OralContraceptives      uint8\n",
       "MM_Statins                 uint8\n",
       "MM_Stimulants              uint8\n",
       "MM_Tranquilizers           uint8\n",
       "dtype: object"
      ]
     },
     "execution_count": 23,
     "metadata": {},
     "output_type": "execute_result"
    }
   ],
   "source": [
    "cf_all.dtypes"
   ]
  },
  {
   "cell_type": "code",
   "execution_count": 24,
   "metadata": {},
   "outputs": [
    {
     "data": {
      "text/plain": [
       "Area027    935\n",
       "Area013    932\n",
       "Area035    930\n",
       "Area046    930\n",
       "Area049    930\n",
       "Area045    929\n",
       "Area018    928\n",
       "Area017    926\n",
       "Area010    555\n",
       "Area019    528\n",
       "Name: DistArea_ID, dtype: int64"
      ]
     },
     "execution_count": 24,
     "metadata": {},
     "output_type": "execute_result"
    }
   ],
   "source": [
    "cf_all['DistArea_ID'].value_counts()"
   ]
  },
  {
   "cell_type": "code",
   "execution_count": 25,
   "metadata": {},
   "outputs": [],
   "source": [
    "cf_all=cf_all.drop(['Medicine_ID','DistArea_ID'],axis=1)"
   ]
  },
  {
   "cell_type": "code",
   "execution_count": 26,
   "metadata": {},
   "outputs": [
    {
     "data": {
      "text/plain": [
       "Counterfeit_Weight       float64\n",
       "Active_Since               int64\n",
       "Medicine_MRP             float64\n",
       "Availability_rating      float64\n",
       "Counterfeit_Sales        float64\n",
       "data                      object\n",
       "sideffect                  int32\n",
       "DT                         int32\n",
       "MTR                        int32\n",
       "AreaName                   int32\n",
       "T3                         int32\n",
       "T2                         int32\n",
       "medium                     int32\n",
       "unknown                    int32\n",
       "small                      int32\n",
       "MM_Analgesics              uint8\n",
       "MM_Antacids                uint8\n",
       "MM_Antibiotics             uint8\n",
       "MM_Antifungal              uint8\n",
       "MM_Antimalarial            uint8\n",
       "MM_Antipyretics            uint8\n",
       "MM_Antiseptics             uint8\n",
       "MM_Cardiac                 uint8\n",
       "MM_Hreplacements           uint8\n",
       "MM_Mstablizers             uint8\n",
       "MM_MuscleRelaxants         uint8\n",
       "MM_OralContraceptives      uint8\n",
       "MM_Statins                 uint8\n",
       "MM_Stimulants              uint8\n",
       "MM_Tranquilizers           uint8\n",
       "dtype: object"
      ]
     },
     "execution_count": 26,
     "metadata": {},
     "output_type": "execute_result"
    }
   ],
   "source": [
    "cf_all.dtypes"
   ]
  },
  {
   "cell_type": "code",
   "execution_count": 27,
   "metadata": {},
   "outputs": [
    {
     "data": {
      "text/plain": [
       "Counterfeit_Weight       1463\n",
       "Active_Since                0\n",
       "Medicine_MRP                0\n",
       "Availability_rating         0\n",
       "Counterfeit_Sales        1705\n",
       "data                        0\n",
       "sideffect                   0\n",
       "DT                          0\n",
       "MTR                         0\n",
       "AreaName                    0\n",
       "T3                          0\n",
       "T2                          0\n",
       "medium                      0\n",
       "unknown                     0\n",
       "small                       0\n",
       "MM_Analgesics               0\n",
       "MM_Antacids                 0\n",
       "MM_Antibiotics              0\n",
       "MM_Antifungal               0\n",
       "MM_Antimalarial             0\n",
       "MM_Antipyretics             0\n",
       "MM_Antiseptics              0\n",
       "MM_Cardiac                  0\n",
       "MM_Hreplacements            0\n",
       "MM_Mstablizers              0\n",
       "MM_MuscleRelaxants          0\n",
       "MM_OralContraceptives       0\n",
       "MM_Statins                  0\n",
       "MM_Stimulants               0\n",
       "MM_Tranquilizers            0\n",
       "dtype: int64"
      ]
     },
     "execution_count": 27,
     "metadata": {},
     "output_type": "execute_result"
    }
   ],
   "source": [
    "cf_all.isnull().sum()"
   ]
  },
  {
   "cell_type": "code",
   "execution_count": 28,
   "metadata": {},
   "outputs": [],
   "source": [
    "for col in cf_all.columns:\n",
    "    if(col not in ['Counterfeit_Sales','data']) & (cf_all[col].isnull().sum()>0):\n",
    "        cf_all.loc[cf_all[col].isnull(),col]=cf_all.loc[cf_all['data']=='train',col].mean()"
   ]
  },
  {
   "cell_type": "code",
   "execution_count": 29,
   "metadata": {},
   "outputs": [
    {
     "data": {
      "text/plain": [
       "Counterfeit_Weight          0\n",
       "Active_Since                0\n",
       "Medicine_MRP                0\n",
       "Availability_rating         0\n",
       "Counterfeit_Sales        1705\n",
       "data                        0\n",
       "sideffect                   0\n",
       "DT                          0\n",
       "MTR                         0\n",
       "AreaName                    0\n",
       "T3                          0\n",
       "T2                          0\n",
       "medium                      0\n",
       "unknown                     0\n",
       "small                       0\n",
       "MM_Analgesics               0\n",
       "MM_Antacids                 0\n",
       "MM_Antibiotics              0\n",
       "MM_Antifungal               0\n",
       "MM_Antimalarial             0\n",
       "MM_Antipyretics             0\n",
       "MM_Antiseptics              0\n",
       "MM_Cardiac                  0\n",
       "MM_Hreplacements            0\n",
       "MM_Mstablizers              0\n",
       "MM_MuscleRelaxants          0\n",
       "MM_OralContraceptives       0\n",
       "MM_Statins                  0\n",
       "MM_Stimulants               0\n",
       "MM_Tranquilizers            0\n",
       "dtype: int64"
      ]
     },
     "execution_count": 29,
     "metadata": {},
     "output_type": "execute_result"
    }
   ],
   "source": [
    "cf_all.isnull().sum()"
   ]
  },
  {
   "cell_type": "code",
   "execution_count": 30,
   "metadata": {},
   "outputs": [
    {
     "name": "stderr",
     "output_type": "stream",
     "text": [
      "C:\\Users\\User\\Anaconda3\\lib\\site-packages\\pandas\\core\\frame.py:4102: SettingWithCopyWarning: \n",
      "A value is trying to be set on a copy of a slice from a DataFrame\n",
      "\n",
      "See the caveats in the documentation: http://pandas.pydata.org/pandas-docs/stable/user_guide/indexing.html#returning-a-view-versus-a-copy\n",
      "  errors=errors,\n"
     ]
    }
   ],
   "source": [
    "# Separate data\n",
    "\n",
    "cf_train=cf_all[cf_all['data']=='train']\n",
    "del cf_train['data']\n",
    "cf_test=cf_all[cf_all['data']=='test']\n",
    "cf_test.drop(['Counterfeit_Sales','data'],axis=1,inplace=True)"
   ]
  },
  {
   "cell_type": "code",
   "execution_count": 31,
   "metadata": {},
   "outputs": [],
   "source": [
    "del cf_all"
   ]
  },
  {
   "cell_type": "code",
   "execution_count": 32,
   "metadata": {},
   "outputs": [],
   "source": [
    "cf_train1,cf_train2=train_test_split(cf_train, test_size=.2, random_state=2)"
   ]
  },
  {
   "cell_type": "code",
   "execution_count": 33,
   "metadata": {},
   "outputs": [],
   "source": [
    "x_train1=cf_train1.drop('Counterfeit_Sales',axis=1)\n",
    "y_train1=cf_train1['Counterfeit_Sales']\n",
    "x_train2=cf_train2.drop('Counterfeit_Sales',axis=1)\n",
    "y_train2=cf_train2['Counterfeit_Sales']"
   ]
  },
  {
   "cell_type": "markdown",
   "metadata": {},
   "source": [
    "## Linear Regression"
   ]
  },
  {
   "cell_type": "code",
   "execution_count": 34,
   "metadata": {},
   "outputs": [],
   "source": [
    "lm=LinearRegression()"
   ]
  },
  {
   "cell_type": "code",
   "execution_count": 35,
   "metadata": {},
   "outputs": [
    {
     "data": {
      "text/plain": [
       "LinearRegression(copy_X=True, fit_intercept=True, n_jobs=None, normalize=False)"
      ]
     },
     "execution_count": 35,
     "metadata": {},
     "output_type": "execute_result"
    }
   ],
   "source": [
    "lm.fit(x_train1,y_train1)"
   ]
  },
  {
   "cell_type": "code",
   "execution_count": 36,
   "metadata": {},
   "outputs": [
    {
     "data": {
      "text/plain": [
       "-68860.11195766031"
      ]
     },
     "execution_count": 36,
     "metadata": {},
     "output_type": "execute_result"
    }
   ],
   "source": [
    "lm.intercept_"
   ]
  },
  {
   "cell_type": "code",
   "execution_count": 37,
   "metadata": {},
   "outputs": [
    {
     "data": {
      "text/plain": [
       "array([-4.76184250e+00,  3.48569224e+01,  1.54265040e+01, -2.73655664e+02,\n",
       "        1.47837725e+00,  4.41442704e+02, -1.04697064e+03,  2.57968578e+03,\n",
       "       -2.90490699e+02, -1.10887306e+02, -6.32384594e+02, -7.89002702e+02,\n",
       "       -6.37879375e+02, -3.68211232e+02, -3.64010070e+02, -2.91099604e+02,\n",
       "       -3.65479921e+02, -3.55047125e+02, -4.19593789e+02, -3.85509465e+02,\n",
       "       -2.80405616e+02, -3.89898185e+02, -3.71308352e+02, -2.57194422e+02,\n",
       "       -3.57977436e+02, -2.96760803e+02, -3.20687807e+02, -4.33889841e+02])"
      ]
     },
     "execution_count": 37,
     "metadata": {},
     "output_type": "execute_result"
    }
   ],
   "source": [
    "lm.coef_"
   ]
  },
  {
   "cell_type": "code",
   "execution_count": 38,
   "metadata": {},
   "outputs": [
    {
     "data": {
      "text/plain": [
       "[('Counterfeit_Weight', -4.761842500980958),\n",
       " ('Active_Since', 34.85692242431533),\n",
       " ('Medicine_MRP', 15.426504040886183),\n",
       " ('Availability_rating', -273.655663589804),\n",
       " ('sideffect', 1.4783772546208034),\n",
       " ('DT', 441.4427044282537),\n",
       " ('MTR', -1046.9706442129989),\n",
       " ('AreaName', 2579.685783393785),\n",
       " ('T3', -290.49069915507835),\n",
       " ('T2', -110.88730613670538),\n",
       " ('medium', -632.3845936192722),\n",
       " ('unknown', -789.0027016019363),\n",
       " ('small', -637.8793750816394),\n",
       " ('MM_Analgesics', -368.2112315271807),\n",
       " ('MM_Antacids', -364.01007005291405),\n",
       " ('MM_Antibiotics', -291.09960424133),\n",
       " ('MM_Antifungal', -365.4799209551152),\n",
       " ('MM_Antimalarial', -355.0471248181899),\n",
       " ('MM_Antipyretics', -419.59378855957584),\n",
       " ('MM_Antiseptics', -385.50946491851596),\n",
       " ('MM_Cardiac', -280.40561577188686),\n",
       " ('MM_Hreplacements', -389.8981854004179),\n",
       " ('MM_Mstablizers', -371.308352003324),\n",
       " ('MM_MuscleRelaxants', -257.19442154697526),\n",
       " ('MM_OralContraceptives', -357.97743612047117),\n",
       " ('MM_Statins', -296.76080317349846),\n",
       " ('MM_Stimulants', -320.6878067201712),\n",
       " ('MM_Tranquilizers', -433.8898408907861)]"
      ]
     },
     "execution_count": 38,
     "metadata": {},
     "output_type": "execute_result"
    }
   ],
   "source": [
    "list(zip(x_train1.columns,lm.coef_))"
   ]
  },
  {
   "cell_type": "code",
   "execution_count": 39,
   "metadata": {},
   "outputs": [],
   "source": [
    "predicted_ir=lm.predict(x_train2)"
   ]
  },
  {
   "cell_type": "code",
   "execution_count": 40,
   "metadata": {},
   "outputs": [
    {
     "data": {
      "text/plain": [
       "830.0501468413145"
      ]
     },
     "execution_count": 40,
     "metadata": {},
     "output_type": "execute_result"
    }
   ],
   "source": [
    "mean_absolute_error(cf_train2['Counterfeit_Sales'],predicted_ir)"
   ]
  },
  {
   "cell_type": "code",
   "execution_count": 41,
   "metadata": {},
   "outputs": [],
   "source": [
    "y_train2=cf_train2['Counterfeit_Sales']"
   ]
  },
  {
   "cell_type": "code",
   "execution_count": 42,
   "metadata": {},
   "outputs": [],
   "source": [
    "from sklearn.metrics import r2_score"
   ]
  },
  {
   "cell_type": "code",
   "execution_count": 43,
   "metadata": {},
   "outputs": [
    {
     "data": {
      "text/plain": [
       "0.18276366063437344"
      ]
     },
     "execution_count": 43,
     "metadata": {},
     "output_type": "execute_result"
    }
   ],
   "source": [
    "\n",
    "r2_score(predicted_ir,y_train2)"
   ]
  },
  {
   "cell_type": "markdown",
   "metadata": {},
   "source": [
    "## Random forest"
   ]
  },
  {
   "cell_type": "code",
   "execution_count": 44,
   "metadata": {},
   "outputs": [],
   "source": [
    "from sklearn.ensemble import RandomForestRegressor"
   ]
  },
  {
   "cell_type": "code",
   "execution_count": 45,
   "metadata": {},
   "outputs": [],
   "source": [
    "rf=RandomForestRegressor(n_estimators=600,criterion='mse',max_depth=6,bootstrap=True,min_samples_split=2)"
   ]
  },
  {
   "cell_type": "code",
   "execution_count": 46,
   "metadata": {},
   "outputs": [
    {
     "data": {
      "text/plain": [
       "RandomForestRegressor(bootstrap=True, criterion='mse', max_depth=6,\n",
       "                      max_features='auto', max_leaf_nodes=None,\n",
       "                      min_impurity_decrease=0.0, min_impurity_split=None,\n",
       "                      min_samples_leaf=1, min_samples_split=2,\n",
       "                      min_weight_fraction_leaf=0.0, n_estimators=600,\n",
       "                      n_jobs=None, oob_score=False, random_state=None,\n",
       "                      verbose=0, warm_start=False)"
      ]
     },
     "execution_count": 46,
     "metadata": {},
     "output_type": "execute_result"
    }
   ],
   "source": [
    "rf.fit(x_train1,y_train1)"
   ]
  },
  {
   "cell_type": "code",
   "execution_count": 47,
   "metadata": {},
   "outputs": [],
   "source": [
    "predicted_rf=rf.predict(x_train2)"
   ]
  },
  {
   "cell_type": "code",
   "execution_count": 48,
   "metadata": {},
   "outputs": [
    {
     "data": {
      "text/plain": [
       "755.9048632652341"
      ]
     },
     "execution_count": 48,
     "metadata": {},
     "output_type": "execute_result"
    }
   ],
   "source": [
    "mean_absolute_error(cf_train2['Counterfeit_Sales'],predicted_rf)"
   ]
  },
  {
   "cell_type": "code",
   "execution_count": 74,
   "metadata": {},
   "outputs": [],
   "source": [
    "## Implement on train data\n",
    "\n",
    "x_train=cf_train.drop('Counterfeit_Sales',axis=1)\n",
    "y_train=cf_train['Counterfeit_Sales']"
   ]
  },
  {
   "cell_type": "code",
   "execution_count": 75,
   "metadata": {},
   "outputs": [
    {
     "data": {
      "text/plain": [
       "RandomForestRegressor(bootstrap=True, criterion='mse', max_depth=6,\n",
       "                      max_features='auto', max_leaf_nodes=None,\n",
       "                      min_impurity_decrease=0.0, min_impurity_split=None,\n",
       "                      min_samples_leaf=1, min_samples_split=2,\n",
       "                      min_weight_fraction_leaf=0.0, n_estimators=600,\n",
       "                      n_jobs=None, oob_score=False, random_state=None,\n",
       "                      verbose=0, warm_start=False)"
      ]
     },
     "execution_count": 75,
     "metadata": {},
     "output_type": "execute_result"
    }
   ],
   "source": [
    "rf.fit(x_train,y_train)"
   ]
  },
  {
   "cell_type": "code",
   "execution_count": 76,
   "metadata": {},
   "outputs": [],
   "source": [
    "test_pred=rf.predict(cf_test)"
   ]
  },
  {
   "cell_type": "code",
   "execution_count": 77,
   "metadata": {},
   "outputs": [],
   "source": [
    "k=abs(test_pred)"
   ]
  },
  {
   "cell_type": "code",
   "execution_count": 78,
   "metadata": {},
   "outputs": [],
   "source": [
    "pd.DataFrame(k).to_csv(\"Nemish_Tambatkasar_RForest_project3_part2.csv\",index=False)"
   ]
  },
  {
   "cell_type": "code",
   "execution_count": null,
   "metadata": {},
   "outputs": [],
   "source": []
  },
  {
   "cell_type": "code",
   "execution_count": 49,
   "metadata": {},
   "outputs": [],
   "source": [
    "from sklearn.metrics import r2_score"
   ]
  },
  {
   "cell_type": "code",
   "execution_count": 50,
   "metadata": {},
   "outputs": [
    {
     "data": {
      "text/plain": [
       "0.5822087172355631"
      ]
     },
     "execution_count": 50,
     "metadata": {},
     "output_type": "execute_result"
    }
   ],
   "source": [
    "r2_score(y_train2,predicted_rf)"
   ]
  },
  {
   "cell_type": "code",
   "execution_count": 51,
   "metadata": {},
   "outputs": [],
   "source": [
    "def rmse(predictions, targets):\n",
    "    return np.sqrt(((predictions - targets) ** 2).mean())"
   ]
  },
  {
   "cell_type": "code",
   "execution_count": 52,
   "metadata": {},
   "outputs": [
    {
     "data": {
      "text/plain": [
       "1094.9963649141025"
      ]
     },
     "execution_count": 52,
     "metadata": {},
     "output_type": "execute_result"
    }
   ],
   "source": [
    "\n",
    "rmse(y_train2,predicted_rf)"
   ]
  },
  {
   "cell_type": "code",
   "execution_count": 53,
   "metadata": {},
   "outputs": [],
   "source": [
    "## rmse for train data\n",
    "pred_train=rf.predict(x_train1)"
   ]
  },
  {
   "cell_type": "code",
   "execution_count": 54,
   "metadata": {},
   "outputs": [
    {
     "data": {
      "text/plain": [
       "1017.3964039271907"
      ]
     },
     "execution_count": 54,
     "metadata": {},
     "output_type": "execute_result"
    }
   ],
   "source": [
    "## rmse train\n",
    "rmse_train=rmse(y_train1,pred_train)\n",
    "rmse_train"
   ]
  },
  {
   "cell_type": "code",
   "execution_count": 55,
   "metadata": {},
   "outputs": [],
   "source": [
    "\n",
    "copy_data=cf_train.copy()"
   ]
  },
  {
   "cell_type": "code",
   "execution_count": 56,
   "metadata": {},
   "outputs": [
    {
     "data": {
      "text/plain": [
       "(6818, 29)"
      ]
     },
     "execution_count": 56,
     "metadata": {},
     "output_type": "execute_result"
    }
   ],
   "source": [
    "\n",
    "cf_train.shape"
   ]
  },
  {
   "cell_type": "code",
   "execution_count": 57,
   "metadata": {},
   "outputs": [
    {
     "data": {
      "text/plain": [
       "(6818, 29)"
      ]
     },
     "execution_count": 57,
     "metadata": {},
     "output_type": "execute_result"
    }
   ],
   "source": [
    "copy_data.shape"
   ]
  },
  {
   "cell_type": "code",
   "execution_count": 58,
   "metadata": {},
   "outputs": [],
   "source": [
    "from sklearn.decomposition import PCA"
   ]
  },
  {
   "cell_type": "code",
   "execution_count": 59,
   "metadata": {},
   "outputs": [],
   "source": [
    "\n",
    "X=copy_data.values"
   ]
  },
  {
   "cell_type": "code",
   "execution_count": 60,
   "metadata": {},
   "outputs": [],
   "source": [
    "pca=PCA(n_components=29)"
   ]
  },
  {
   "cell_type": "code",
   "execution_count": 61,
   "metadata": {},
   "outputs": [
    {
     "data": {
      "text/plain": [
       "PCA(copy=True, iterated_power='auto', n_components=29, random_state=None,\n",
       "    svd_solver='auto', tol=0.0, whiten=False)"
      ]
     },
     "execution_count": 61,
     "metadata": {},
     "output_type": "execute_result"
    }
   ],
   "source": [
    "pca.fit(X)"
   ]
  },
  {
   "cell_type": "code",
   "execution_count": 62,
   "metadata": {},
   "outputs": [],
   "source": [
    "var=pca.explained_variance_ratio_"
   ]
  },
  {
   "cell_type": "code",
   "execution_count": 63,
   "metadata": {},
   "outputs": [],
   "source": [
    "\n",
    "var1=np.cumsum(pca.explained_variance_ratio_*100)"
   ]
  },
  {
   "cell_type": "code",
   "execution_count": 64,
   "metadata": {},
   "outputs": [],
   "source": [
    "\n",
    "import matplotlib.pyplot as plt\n",
    "%matplotlib inline"
   ]
  },
  {
   "cell_type": "code",
   "execution_count": 65,
   "metadata": {},
   "outputs": [
    {
     "data": {
      "text/plain": [
       "[<matplotlib.lines.Line2D at 0x22f415fbdc8>]"
      ]
     },
     "execution_count": 65,
     "metadata": {},
     "output_type": "execute_result"
    },
    {
     "data": {
      "image/png": "[encoded data removed]",
      "text/plain": [
       "<Figure size 432x288 with 1 Axes>"
      ]
     },
     "metadata": {
      "needs_background": "light"
     },
     "output_type": "display_data"
    }
   ],
   "source": [
    "plt.plot(var1)"
   ]
  },
  {
   "cell_type": "code",
   "execution_count": 66,
   "metadata": {},
   "outputs": [],
   "source": [
    "target=cf_train['Counterfeit_Sales']"
   ]
  },
  {
   "cell_type": "code",
   "execution_count": 67,
   "metadata": {},
   "outputs": [],
   "source": [
    "\n",
    "# From the above plot selecting 2 components since it explains almost 98+ % data variance\n",
    "pca = PCA(n_components=4)\n",
    "\n",
    "# Fitting the selected components to the data\n",
    "pca.fit(X)\n",
    "\n",
    "# Using train_test_split sampling function for test and train data split\n",
    "X_train, X_test, Y_train, Y_test = train_test_split(X,target, test_size=0.2)"
   ]
  },
  {
   "cell_type": "code",
   "execution_count": 68,
   "metadata": {},
   "outputs": [],
   "source": [
    "rf1=RandomForestRegressor(n_estimators=600,criterion='mse',max_depth=6,bootstrap=True,min_samples_split=2)"
   ]
  },
  {
   "cell_type": "code",
   "execution_count": 69,
   "metadata": {},
   "outputs": [
    {
     "data": {
      "text/plain": [
       "RandomForestRegressor(bootstrap=True, criterion='mse', max_depth=6,\n",
       "                      max_features='auto', max_leaf_nodes=None,\n",
       "                      min_impurity_decrease=0.0, min_impurity_split=None,\n",
       "                      min_samples_leaf=1, min_samples_split=2,\n",
       "                      min_weight_fraction_leaf=0.0, n_estimators=600,\n",
       "                      n_jobs=None, oob_score=False, random_state=None,\n",
       "                      verbose=0, warm_start=False)"
      ]
     },
     "execution_count": 69,
     "metadata": {},
     "output_type": "execute_result"
    }
   ],
   "source": [
    "rf1.fit(X_train,Y_train)"
   ]
  },
  {
   "cell_type": "code",
   "execution_count": 70,
   "metadata": {},
   "outputs": [],
   "source": [
    "\n",
    "predicted_rf1=rf1.predict(X_test)"
   ]
  },
  {
   "cell_type": "code",
   "execution_count": 71,
   "metadata": {},
   "outputs": [
    {
     "data": {
      "text/plain": [
       "7.4900110039721515"
      ]
     },
     "execution_count": 71,
     "metadata": {},
     "output_type": "execute_result"
    }
   ],
   "source": [
    "mean_absolute_error(Y_test,predicted_rf1)"
   ]
  },
  {
   "cell_type": "code",
   "execution_count": 72,
   "metadata": {},
   "outputs": [
    {
     "data": {
      "text/plain": [
       "array([2801.35448114,  544.57677859, 2393.49799346, ...,  197.63722227,\n",
       "       1304.5124203 , 3897.05220756])"
      ]
     },
     "execution_count": 72,
     "metadata": {},
     "output_type": "execute_result"
    }
   ],
   "source": [
    "predicted_rf1"
   ]
  },
  {
   "cell_type": "code",
   "execution_count": 73,
   "metadata": {},
   "outputs": [
    {
     "data": {
      "text/plain": [
       "[(2796.1740000000004, 2801.3544811356073),\n",
       " (538.4462, 544.576778594889),\n",
       " (2394.6966, 2393.4979934576163),\n",
       " (1158.306, 1156.8923099728752),\n",
       " (3776.2316, 3775.4490296308372),\n",
       " (2592.4392, 2586.974954634),\n",
       " (4692.3724, 4691.069461592212),\n",
       " (3315.498, 3318.5798548397606),\n",
       " (2485.9112, 2487.73690208328),\n",
       " (3248.918, 3248.4257582864625),\n",
       " (832.064, 823.7476333217372),\n",
       " (4319.5244, 4336.747748080662),\n",
       " (698.904, 715.4758742292593),\n",
       " (3463.3056, 3474.6203149494395),\n",
       " (1390.0044, 1396.6508482112695),\n",
       " (239.502, 231.6961682173396),\n",
       " (3119.087, 3110.641148717373),\n",
       " (6155.135, 6145.484233300204),\n",
       " (4181.038, 4184.081423998875),\n",
       " (5641.1374, 5633.422348346017),\n",
       " (2872.0752, 2868.4989625534627),\n",
       " (2364.0698, 2364.5068391186487),\n",
       " (600.3656, 587.3931858644587),\n",
       " (3188.996, 3197.9061737074094),\n",
       " (2075.7784, 2082.1028577339457),\n",
       " (3310.1716, 3314.6130341088697),\n",
       " (1966.5872, 1972.2800907878045),\n",
       " (915.9548, 910.7030504470428),\n",
       " (3268.8920000000007, 3261.881379465427),\n",
       " (1527.1592, 1524.4128470553328),\n",
       " (1601.7288, 1604.7964261118116),\n",
       " (9364.9568, 10206.291535763597),\n",
       " (1464.5739999999996, 1454.9660763472036),\n",
       " (3619.7686, 3616.724695408316),\n",
       " (6292.9556, 6301.206005944372),\n",
       " (648.3032, 648.159210709412),\n",
       " (4017.917, 4014.512323036301),\n",
       " (1930.634, 1928.7235597954177),\n",
       " (5186.396, 5176.99723238742),\n",
       " (2499.2272, 2503.5032674004588),\n",
       " (254.1496, 281.5603930255557),\n",
       " (312.74, 297.6988098318153),\n",
       " (1125.6818, 1118.7853944420865),\n",
       " (792.1160000000001, 801.1347419778933),\n",
       " (828.0692, 819.3948957300213),\n",
       " (2713.6148, 2709.4066580385115),\n",
       " (2228.9124, 2225.7194518399047),\n",
       " (816.0848, 810.8253058444326),\n",
       " (2754.8944, 2762.975568152312),\n",
       " (3688.346, 3686.138263871741),\n",
       " (509.8168, 496.2461934675146),\n",
       " (1551.128, 1545.0066257577914),\n",
       " (2881.3964, 2874.5339552560804),\n",
       " (622.337, 635.9344347463798),\n",
       " (6880.1912, 6884.0436232209695),\n",
       " (10349.675, 10118.484248354258),\n",
       " (4031.8988, 4042.344398793829),\n",
       " (496.5008, 494.5000352057696),\n",
       " (4963.353, 4957.914215583144),\n",
       " (5146.448, 5144.1800543791815),\n",
       " (2991.2534, 2986.915333068768),\n",
       " (1112.3658, 1109.615558344106),\n",
       " (3718.307, 3715.2722837283277),\n",
       " (995.8508, 997.3551566863212),\n",
       " (1623.0344, 1617.0928089580984),\n",
       " (1438.6078, 1434.113003380603),\n",
       " (1636.3504, 1632.0166831079518),\n",
       " (4307.54, 4326.994653344217),\n",
       " (3278.879000000001, 3276.4544960479093),\n",
       " (2000.543, 1994.475839326777),\n",
       " (291.4344, 282.30818455993153),\n",
       " (704.2304, 717.3551306590839),\n",
       " (4493.964, 4498.325915235704),\n",
       " (783.4606, 796.165280691722),\n",
       " (1443.2684, 1436.8312480198967),\n",
       " (1247.5232, 1252.095988373118),\n",
       " (860.0276, 870.0167604052072),\n",
       " (4762.9472, 4773.841995080003),\n",
       " (256.8128, 281.5603930255557),\n",
       " (1555.1228, 1551.4558827435335),\n",
       " (3149.048, 3150.01793058966),\n",
       " (5665.1062, 5659.677332805435),\n",
       " (2939.321, 2942.319750417913),\n",
       " (3790.2134, 3794.520964800118),\n",
       " (2082.4364, 2085.427888239674),\n",
       " (2987.9244, 2986.421183057422),\n",
       " (160.2718, 197.63722226822168),\n",
       " (146.9558, 197.63722226822168),\n",
       " (652.298, 648.4907102654199),\n",
       " (3804.1952, 3810.8733890574154),\n",
       " (1390.0044, 1396.6508482112695),\n",
       " (579.06, 569.5531167460666),\n",
       " (395.965, 406.6176187601693),\n",
       " (2917.3496, 2923.6882541289756),\n",
       " (6498.022, 6470.79059631314),\n",
       " (1324.756, 1328.312919695541),\n",
       " (4346.1564, 4348.499851777666),\n",
       " (1291.466, 1290.9822861077012),\n",
       " (2536.512, 2536.802670179504),\n",
       " (2170.9878, 2174.509296339815),\n",
       " (2683.6538, 2678.2370818698532),\n",
       " (2172.9852, 2177.113142196517),\n",
       " (2910.6916, 2917.7629799265574),\n",
       " (4547.228, 4544.955345058931),\n",
       " (442.571, 430.38321602055515),\n",
       " (3125.745, 3121.2730241830654),\n",
       " (2615.7422, 2621.3553497886583),\n",
       " (816.0848, 810.8253058444326),\n",
       " (367.3356, 354.07265550103745),\n",
       " (429.9208, 426.628912927622),\n",
       " (3870.1094, 3865.14047774571),\n",
       " (2478.5874, 2478.744956793926),\n",
       " (2800.8346, 2801.548787257961),\n",
       " (2222.2544, 2217.4110004072254),\n",
       " (4645.7664, 4645.148645917277),\n",
       " (1431.284, 1430.1824335069878),\n",
       " (1709.5884, 1708.0318459736293),\n",
       " (580.3916, 569.7947836323331),\n",
       " (1910.66, 1907.9249852205044),\n",
       " (3350.1196, 3349.2879331819595),\n",
       " (310.0768, 293.58507957929896),\n",
       " (5468.0294, 5456.208516082816),\n",
       " (294.7634, 282.73114110540973),\n",
       " (427.2576, 426.628912927622),\n",
       " (1753.5312, 1754.7408558876118),\n",
       " (1838.7536, 1829.5023532114997),\n",
       " (1969.2504, 1977.112567255831),\n",
       " (2749.568, 2752.26207209381),\n",
       " (2137.032, 2128.399880190665),\n",
       " (1212.2358, 1218.1393021774502),\n",
       " (1152.9796, 1149.1286670641612),\n",
       " (672.2719999999998, 657.529712114481),\n",
       " (1155.6428, 1154.016943736071),\n",
       " (1091.726, 1098.000340099751),\n",
       " (872.012, 879.4068885628119),\n",
       " (979.8716, 980.0894562373225),\n",
       " (3452.6528, 3460.1597507745814),\n",
       " (1660.3192, 1663.6878216942564),\n",
       " (3668.372, 3674.993948590623),\n",
       " (452.55800000000005, 441.8735416919609),\n",
       " (3540.5384, 3538.507616444127),\n",
       " (2062.4624, 2068.9608360888733),\n",
       " (7010.688, 6985.080951736287),\n",
       " (1221.557, 1224.6179743045473),\n",
       " (2240.231, 2235.5075203671854),\n",
       " (3060.4966, 3058.073612808566),\n",
       " (1780.1632, 1785.5242243287041),\n",
       " (715.549, 720.7425578840367),\n",
       " (845.38, 838.6425550155659),\n",
       " (2520.5328, 2519.751706179057),\n",
       " (2082.4364, 2085.427888239674),\n",
       " (950.5764, 951.5712845343152),\n",
       " (1299.4556, 1302.890719163168),\n",
       " (3117.0896, 3109.850450890367),\n",
       " (1870.712, 1877.6752579851711),\n",
       " (1947.9448, 1946.5809069050867),\n",
       " (970.5504, 967.1474530225455),\n",
       " (611.0184, 611.2990516838759),\n",
       " (2896.7098, 2887.623716839297),\n",
       " (4207.67, 4202.069290562857),\n",
       " (935.263, 936.4584954566109),\n",
       " (4150.4112, 4138.864899689171),\n",
       " (2246.2232, 2244.1203191700897),\n",
       " (977.2084, 977.2892235428213),\n",
       " (3259.5708, 3259.5285575097937),\n",
       " (2266.1972, 2264.3140920600663),\n",
       " (2186.967, 2187.6796235094316),\n",
       " (1529.8224, 1524.4128470553328),\n",
       " (965.224, 962.324516012746),\n",
       " (1957.9318, 1961.4635901803636),\n",
       " (1065.7598, 1067.861977430517),\n",
       " (3288.866, 3288.7378505401116),\n",
       " (667.6114, 654.1233989273869),\n",
       " (2975.94, 2979.217197594319),\n",
       " (1581.089, 1589.6530108719053),\n",
       " (871.3462, 879.4068885628119),\n",
       " (504.4904, 494.5000352057696),\n",
       " (637.6504, 647.2824772175802),\n",
       " (1328.7508, 1331.4588726335155),\n",
       " (3023.2118, 3021.4392765787616),\n",
       " (2111.7316, 2114.181401523948),\n",
       " (1730.894, 1726.1030291857612),\n",
       " (1973.2452, 1980.5585443989614),\n",
       " (2206.2752, 2209.6995531057223),\n",
       " (579.06, 569.5531167460666),\n",
       " (3089.126, 3089.253836058114),\n",
       " (769.4788, 778.0673319655117),\n",
       " (998.514, 998.754976452141),\n",
       " (2573.7968, 2569.2668265987354),\n",
       " (984.5322, 987.1595257448993),\n",
       " (2744.2416, 2745.741070813758),\n",
       " (476.5268, 489.3494497244289),\n",
       " (922.6128, 917.3928230315428),\n",
       " (3987.956, 3991.573802324134),\n",
       " (923.9444, 918.7041628424608),\n",
       " (1714.249, 1712.2252796648452),\n",
       " (1395.3308, 1398.2416126543233),\n",
       " (564.4124, 568.3162634026093),\n",
       " (198.8882, 197.63722226822168),\n",
       " (754.8312, 750.3073262175733),\n",
       " (2447.9606, 2449.9035016548714),\n",
       " (1461.245, 1448.3244469433187),\n",
       " (573.7336, 568.7027733359266),\n",
       " (1218.8938, 1223.1841758097646),\n",
       " (1800.803, 1803.613526050991),\n",
       " (1095.7208, 1100.1239971309199),\n",
       " (901.973, 898.512627262805),\n",
       " (2396.0282, 2394.0279736697757),\n",
       " (2648.3664, 2650.8582750526475),\n",
       " (3628.424, 3630.0003016824153),\n",
       " (3073.1468, 3069.7220557254363),\n",
       " (3957.995, 3963.9974783912885),\n",
       " (4142.4216, 4130.610705147043),\n",
       " (1950.608, 1951.9058230777594),\n",
       " (1189.5986, 1185.1667460701374),\n",
       " (2461.9424, 2461.621433162504),\n",
       " (2014.5248, 2003.719650321015),\n",
       " (2198.2856, 2205.255088299158),\n",
       " (628.995, 645.0075065859097),\n",
       " (2701.6304, 2693.581208922084),\n",
       " (4209.6674, 4204.154187205857),\n",
       " (1151.648, 1148.1813566834323),\n",
       " (1844.08, 1841.1878634305174),\n",
       " (2653.6928, 2660.511635605169),\n",
       " (302.753, 286.21268865379346),\n",
       " (2280.8448, 2273.9592621073493),\n",
       " (2813.4848, 2814.1188248031467),\n",
       " (1343.3984, 1344.2717241637722),\n",
       " (2809.49, 2811.298009516778),\n",
       " (1419.9654, 1422.4609487923983),\n",
       " (216.199, 197.8841950209925),\n",
       " (2861.4224, 2864.9177079077244),\n",
       " (560.4176, 568.1869688615919),\n",
       " (5442.0632, 5432.030613528235),\n",
       " (2479.919, 2478.8945651310005),\n",
       " (1148.9848, 1147.2172322975136),\n",
       " (1501.8588, 1509.8034238654043),\n",
       " (883.3306, 885.1461965718514),\n",
       " (1152.9796, 1149.1286670641612),\n",
       " (3350.1196, 3349.2879331819595),\n",
       " (1541.141, 1531.5096882876076),\n",
       " (6050.6044, 6078.398620171845),\n",
       " (2597.7656, 2597.037041544863),\n",
       " (3327.4824, 3332.060695317165),\n",
       " (425.926, 426.628912927622),\n",
       " (572.4019999999998, 568.5706905992972),\n",
       " (2105.7394, 2100.82812277846),\n",
       " (1451.2579999999996, 1442.8330460744123),\n",
       " (3112.429, 3109.230816647457),\n",
       " (2605.7552, 2608.6998177424584),\n",
       " (3338.801, 3338.5468904534528),\n",
       " (4680.388, 4689.559918306934),\n",
       " (6309.6006, 6312.963323573809),\n",
       " (1259.5076, 1260.0327255957852),\n",
       " (2701.6304, 2693.581208922084),\n",
       " (1391.336, 1396.8043141787764),\n",
       " (3248.2522, 3247.5562872842565),\n",
       " (3165.0272, 3167.4236405159945),\n",
       " (3958.6608, 3963.9974783912885),\n",
       " (2256.2102, 2257.5331296412455),\n",
       " (1689.6144, 1688.9294852905653),\n",
       " (2360.075, 2361.7463004051606),\n",
       " (3160.3666, 3162.3641573010486),\n",
       " (3175.0142, 3177.5832022285445),\n",
       " (1748.8706, 1747.2214026353076),\n",
       " (1870.712, 1877.6752579851711),\n",
       " (5087.1918, 5086.54996334231),\n",
       " (736.1888, 725.8032240825986),\n",
       " (616.3448, 622.6255913735375),\n",
       " (1631.024, 1626.1854078969188),\n",
       " (5635.811, 5632.186151144853),\n",
       " (1768.1788, 1772.3535542280808),\n",
       " (5375.4832, 5382.317519992934),\n",
       " (496.5008, 494.5000352057696),\n",
       " (5840.2116, 5848.478674029435),\n",
       " (2172.9852, 2177.113142196517),\n",
       " (1768.1788, 1772.3535542280808),\n",
       " (260.1418, 281.5603930255557),\n",
       " (1143.6584, 1143.5050254698865),\n",
       " (780.1316, 791.1887445708641),\n",
       " (2501.8904, 2504.1831945384365),\n",
       " (3085.797, 3085.1284410668227),\n",
       " (2700.9646, 2693.581208922084),\n",
       " (4067.852, 4067.0615657703083),\n",
       " (3116.4238, 3109.850450890367),\n",
       " (7379.5412, 7358.117898345182),\n",
       " (4699.0304, 4697.578478853234),\n",
       " (7759.0472, 7700.163772857127),\n",
       " (816.0848, 810.8253058444326),\n",
       " (1951.2738, 1952.9028593480994),\n",
       " (2035.8304, 2034.1108056883525),\n",
       " (263.4708, 281.5603930255557),\n",
       " (2977.2716, 2979.217197594319),\n",
       " (224.1886, 200.7595333360621),\n",
       " (5551.9202, 5548.674429090981),\n",
       " (2174.3168, 2177.113142196517),\n",
       " (728.1992, 723.7032758391763),\n",
       " (4470.661, 4477.273705955467),\n",
       " (893.9834, 889.3119555940903),\n",
       " (307.4136, 291.17792198846195),\n",
       " (312.74, 297.6988098318153),\n",
       " (3687.0144, 3679.732570755872),\n",
       " (2489.906, 2490.1301594885276),\n",
       " (2303.482, 2299.4976366421615),\n",
       " (2276.1842, 2269.152832159553),\n",
       " (1716.9122, 1716.126045713305),\n",
       " (359.346, 352.46065234195254),\n",
       " (2682.3222, 2678.2370818698532),\n",
       " (2912.6890000000008, 2918.1161181339708),\n",
       " (5591.2024, 5580.393507394976),\n",
       " (3523.2276, 3529.885849823185),\n",
       " (2061.1308, 2068.8153858386722),\n",
       " (4211.6648, 4204.744647555231),\n",
       " (886.6596, 887.1195775523457),\n",
       " (3101.1104, 3097.9849412226818),\n",
       " (3053.1728, 3052.8259247556616),\n",
       " (2669.672, 2669.241812710001),\n",
       " (422.597, 426.628912927622),\n",
       " (272.79200000000003, 281.5603930255557),\n",
       " (5978.0322, 5976.932516321193),\n",
       " (821.4112, 813.1206769100088),\n",
       " (1109.0368, 1106.8062033160784),\n",
       " (2665.6772, 2668.9623312192216),\n",
       " (1358.046, 1350.1958584638016),\n",
       " (1399.3256, 1401.701682022321),\n",
       " (3318.827, 3320.654582987377),\n",
       " (1123.6844, 1118.0668489657648),\n",
       " (264.1366, 281.5603930255557),\n",
       " (162.2692, 197.63722226822168),\n",
       " (4605.8184, 4608.367886099908),\n",
       " (4806.89, 4804.599506700492),\n",
       " (2861.4224, 2864.9177079077244),\n",
       " (754.1654, 747.0532013670024),\n",
       " (1966.5872, 1972.2800907878045),\n",
       " (1956.6002, 1961.313770769108),\n",
       " (1886.6912, 1891.893387893133),\n",
       " (1957.266, 1961.4635901803636),\n",
       " (1621.037, 1615.2658186162714),\n",
       " (1167.6272, 1169.9438975530393),\n",
       " (1407.3152, 1413.0853454664225),\n",
       " (1290.1344, 1287.75510220973),\n",
       " (4270.2552, 4273.040463720489),\n",
       " (1904.6678, 1902.6340621265358),\n",
       " (4806.89, 4804.599506700492),\n",
       " (601.6972, 591.3106852687371),\n",
       " (2983.9296, 2983.4493029712044),\n",
       " (3564.5072, 3554.3867510672712),\n",
       " (1455.2528, 1444.320922915308),\n",
       " (429.9208, 426.628912927622),\n",
       " (1207.5752, 1209.3915338991574),\n",
       " (772.1419999999998, 781.6916468705602),\n",
       " (3306.1768, 3312.4795185862295),\n",
       " (4569.1994, 4559.911634867691),\n",
       " (1902.6704, 1902.6340621265358),\n",
       " (3214.2964, 3215.875062331767),\n",
       " (5144.4506, 5144.1800543791815),\n",
       " (1694.9408, 1692.653832165457),\n",
       " (560.4176, 568.1869688615919),\n",
       " (572.4019999999998, 568.5706905992972),\n",
       " (440.5736, 429.1179512346067),\n",
       " (3548.528, 3541.909873615107),\n",
       " (1003.8404, 1003.4219620840845),\n",
       " (4319.5244, 4336.747748080662),\n",
       " (1065.094, 1067.7372984543267),\n",
       " (1647.0032, 1646.8133147108663),\n",
       " (2172.9852, 2177.113142196517),\n",
       " (3848.138, 3852.2038858062892),\n",
       " (499.164, 494.5000352057696),\n",
       " (4966.682, 4960.649693302134),\n",
       " (3451.987, 3460.1597507745814),\n",
       " (1818.7796, 1810.9843147284694),\n",
       " (2219.5912, 2215.2519528069183),\n",
       " (1766.8472, 1769.8550235782784),\n",
       " (1837.422, 1828.7530363619917),\n",
       " (1461.245, 1448.3244469433187),\n",
       " (4031.8988, 4042.344398793829),\n",
       " (1005.172, 1004.5712582043849),\n",
       " (258.8102, 281.5603930255557),\n",
       " (1380.0174, 1379.6775473694938),\n",
       " (2929.3340000000007, 2931.7000633354105),\n",
       " (2483.248, 2486.6686734825657),\n",
       " (1886.6912, 1891.893387893133),\n",
       " (3312.169000000001, 3317.599416996951),\n",
       " (282.779, 281.5603930255557),\n",
       " (5396.123000000001, 5399.7532902000985),\n",
       " (1263.5024, 1262.258048541339),\n",
       " (4029.2356, 4039.474051104003),\n",
       " (3252.9128, 3255.506648750052),\n",
       " (2406.0152, 2398.8641513691355),\n",
       " (751.5022, 744.5378896937399),\n",
       " (859.3618, 870.0167604052072),\n",
       " (2575.7942, 2571.1108656311776),\n",
       " (1710.92, 1708.275335286519),\n",
       " (429.9208, 426.628912927622),\n",
       " (2198.9514, 2205.5482106399713),\n",
       " (3133.0688, 3127.637339538623),\n",
       " (897.3124, 893.4922290911925),\n",
       " (2340.101, 2345.382804895201),\n",
       " (2989.256, 2986.421183057422),\n",
       " (236.8388, 217.92700407319134),\n",
       " (3021.8802, 3021.2482464984987),\n",
       " (2042.4884, 2036.1841699483848),\n",
       " (460.5476, 452.4001567496919),\n",
       " (4054.536, 4061.026018090277),\n",
       " (1099.7156, 1101.822483278809),\n",
       " (349.3590000000001, 351.45217477534965),\n",
       " (690.2486, 692.8123994441645),\n",
       " (2479.919, 2478.8945651310005),\n",
       " (230.8466, 210.26768398572204),\n",
       " (4621.1318, 4616.8468600419765),\n",
       " (4547.228, 4544.955345058931),\n",
       " (1135.6688, 1135.926085299858),\n",
       " (500.4956, 494.5000352057696),\n",
       " (987.8612, 988.2087362881517),\n",
       " (895.315, 890.5682849609024),\n",
       " (263.4708, 281.5603930255557),\n",
       " (1492.5376, 1505.3091492752917),\n",
       " (2954.6344, 2955.989247986641),\n",
       " (1149.6506, 1148.0416887799702),\n",
       " (3298.853, 3301.417767907457),\n",
       " (1455.2528, 1444.320922915308),\n",
       " (3069.152, 3068.5691676872575),\n",
       " (3774.9, 3775.2168529461565),\n",
       " (2071.1178, 2078.1213892441915),\n",
       " (4746.968, 4746.059119876324),\n",
       " (9340.988, 9305.536069391072),\n",
       " (3298.1872, 3301.417767907457),\n",
       " (2648.3664, 2650.8582750526475),\n",
       " (1460.5792, 1447.888313824449),\n",
       " (2023.846, 2018.9842608082104),\n",
       " (1203.5804, 1201.3871736235553),\n",
       " (1527.1592, 1524.4128470553328),\n",
       " (2709.62, 2705.876564938572),\n",
       " (202.883, 197.63722226822168),\n",
       " (3841.48, 3849.710138420222),\n",
       " (2647.0348, 2650.8582750526475),\n",
       " (1856.0644, 1856.2146025500294),\n",
       " (1561.7808, 1555.7133668056888),\n",
       " (3258.905, 3259.5285575097937),\n",
       " (2415.3364, 2414.702007660287),\n",
       " (1921.9786, 1914.975504983506),\n",
       " (866.0198, 878.3961399451109),\n",
       " (6687.775, 6715.57683293088),\n",
       " (2777.5316, 2777.894777089798),\n",
       " (1834.093, 1821.9181034517462),\n",
       " (289.437, 282.0811033657549),\n",
       " (2200.283, 2206.121655632039),\n",
       " (1148.9848, 1147.2172322975136),\n",
       " (4074.51, 4072.5445975992466),\n",
       " (4133.7662, 4129.082066079608),\n",
       " (3673.6984, 3676.1684068010104),\n",
       " (158.2744, 197.63722226822168),\n",
       " (1455.2528, 1444.320922915308),\n",
       " (1864.054, 1863.1500534018983),\n",
       " (812.09, 809.7350958000795),\n",
       " (4251.6128, 4253.584906263819),\n",
       " (3192.325, 3199.577899688545),\n",
       " (961.895, 961.9034101974737),\n",
       " (2881.3964, 2874.5339552560804),\n",
       " (3523.2276, 3529.885849823185),\n",
       " (1907.331, 1906.5611770468433),\n",
       " (997.1824, 998.4903544808182),\n",
       " (1246.1916, 1252.095988373118),\n",
       " (2086.4312, 2086.9714797975994),\n",
       " (4941.3816, 4944.353310429825),\n",
       " (3111.0974, 3109.0464109791533),\n",
       " (220.8596, 199.83025846266813),\n",
       " (1689.6144, 1688.9294852905653),\n",
       " (256.8128, 281.5603930255557),\n",
       " (3161.6982, 3162.5585070797747),\n",
       " (3848.138, 3852.2038858062892),\n",
       " (485.848, 493.3229512122424),\n",
       " (2364.7356, 2364.651064194805),\n",
       " (647.6374, 648.159210709412),\n",
       " (1963.924, 1970.0902731975411),\n",
       " (3318.1612, 3320.096140698117),\n",
       " (2519.867, 2519.751706179057),\n",
       " (3886.7544, 3878.962575759886),\n",
       " (1421.297, 1424.3643203916708),\n",
       " (5635.811, 5632.186151144853),\n",
       " (4199.0146, 4198.421791892021),\n",
       " (2126.3792, 2120.4711110317016),\n",
       " (3135.732, 3127.637339538623),\n",
       " (1810.79, 1807.1006071243692),\n",
       " (1515.1748, 1518.6015706488931),\n",
       " (1973.2452, 1980.5585443989614),\n",
       " (648.3032, 648.159210709412),\n",
       " (2222.2544, 2217.4110004072254),\n",
       " (5838.88, 5843.178669517051),\n",
       " (1826.7692, 1816.4682577623944),\n",
       " (3106.4368, 3104.6352151393326),\n",
       " (350.6906, 351.45217477534965),\n",
       " (1641.6768, 1638.7979864740387),\n",
       " (195.5592, 197.63722226822168),\n",
       " (6466.0636, 6453.819430320171),\n",
       " (2701.6304, 2693.581208922084),\n",
       " (4762.9472, 4773.841995080003),\n",
       " (2382.0464, 2382.132406490407),\n",
       " (965.224, 962.324516012746),\n",
       " (5472.69, 5467.821147731512),\n",
       " (4492.6324, 4498.088040051541),\n",
       " (6312.9296, 6313.5387291458055),\n",
       " (5496.6588, 5493.714478170932),\n",
       " (4673.73, 4688.287730862464),\n",
       " (2930.6656, 2932.6409742582573),\n",
       " (3813.5164, 3815.439779324807),\n",
       " (2523.196, 2520.309997087214),\n",
       " (5781.6212, 5795.064335750838),\n",
       " (276.7868, 281.5603930255557),\n",
       " (616.3448, 622.6255913735375),\n",
       " (5206.37, 5196.9563936415625),\n",
       " (4214.328, 4206.512199199659),\n",
       " (4210.3332, 4204.154187205857),\n",
       " (1408.6468, 1414.4219024744173),\n",
       " (1289.4686, 1286.1250437914396),\n",
       " (7335.5984, 7308.767313074545),\n",
       " (895.9808, 890.6798067061867),\n",
       " (1259.5076, 1260.0327255957852),\n",
       " (1401.9888, 1405.9169648620518),\n",
       " (2485.9112, 2487.73690208328),\n",
       " (322.0612, 327.51311282035874),\n",
       " (5133.132000000001, 5136.631013546181),\n",
       " (4251.6128, 4253.584906263819),\n",
       " (772.1419999999998, 781.6916468705602),\n",
       " (5964.0504, 5948.632278811755),\n",
       " (2380.049, 2379.38357010738),\n",
       " (443.2368, 430.38321602055515),\n",
       " (807.4294, 807.5801081006074),\n",
       " (6146.4796, 6140.9113122948265),\n",
       " (3384.0754, 3376.908189547091),\n",
       " (3067.1546, 3068.358483180306),\n",
       " (218.8622, 198.78707103142207),\n",
       " (7271.6816, 7258.013906154661),\n",
       " (2861.4224, 2864.9177079077244),\n",
       " (3836.8194, 3845.599047681825),\n",
       " (893.9834, 889.3119555940903),\n",
       " (848.709, 847.2851868180674),\n",
       " (3188.996, 3197.9061737074094),\n",
       " (826.7376, 816.5362884767048),\n",
       " (1664.314, 1667.4321006869848),\n",
       " (5146.448, 5144.1800543791815),\n",
       " (3724.2992, 3718.716739560997),\n",
       " (2998.5772, 2994.762997805911),\n",
       " (3344.1274, 3347.7718015453497),\n",
       " (2854.0986, 2861.350970571034),\n",
       " (6587.2392, 6566.171405140944),\n",
       " (3804.1952, 3810.8733890574154),\n",
       " (226.186, 202.2101110436597),\n",
       " (579.06, 569.5531167460666),\n",
       " (2637.0478, 2647.2837931707268),\n",
       " (5276.9448, 5290.9336346246355),\n",
       " (2270.192, 2264.9114506399937),\n",
       " (1279.4816, 1268.4266202079987),\n",
       " (2246.2232, 2244.1203191700897),\n",
       " (3044.5174, 3042.055131101509),\n",
       " (2009.1984, 1999.7004027504013),\n",
       " (2093.755, 2092.9597686925094),\n",
       " (4294.224, 4291.262291873569),\n",
       " (2477.9216, 2478.6162109023967),\n",
       " (2090.426, 2088.9735177612124),\n",
       " (4679.0564, 4689.559918306934),\n",
       " (5334.8694, 5342.041032373538),\n",
       " (600.3656, 587.3931858644587),\n",
       " (182.2432, 197.63722226822168),\n",
       " (5615.837, 5610.36049349577),\n",
       " (4375.4516, 4375.703743931778),\n",
       " (2219.5912, 2215.2519528069183),\n",
       " (4917.4128, 4935.969865989239),\n",
       " (4810.8848, 4807.301761327144),\n",
       " (564.4124, 568.3162634026093),\n",
       " (4842.8432, 4846.958525635427),\n",
       " (490.5086, 494.36085522948144),\n",
       " (2056.4702, 2064.702305800916),\n",
       " (599.034, 584.3294115843947),\n",
       " (541.7752, 547.9563131809019),\n",
       " (2459.945, 2459.7063870711613),\n",
       " (332.0482, 347.2488442920299),\n",
       " (604.3604, 596.7224056101173),\n",
       " (2364.0698, 2364.5068391186487),\n",
       " (1147.6532, 1146.9551644277585),\n",
       " (1167.6272, 1169.9438975530393),\n",
       " (6587.2392, 6566.171405140944),\n",
       " (1021.817, 1023.2594050205036),\n",
       " (565.744, 568.3162634026093),\n",
       " (3185.667, 3191.5776901068098),\n",
       " (2797.5056, 2801.3544811356073),\n",
       " (2656.356, 2661.9020487689213),\n",
       " (3948.008, 3949.11055229984),\n",
       " (289.437, 282.0811033657549),\n",
       " (3370.7594, 3365.1931679044274),\n",
       " (2744.2416, 2745.741070813758),\n",
       " (315.4032, 306.41889297969544),\n",
       " (2090.426, 2088.9735177612124),\n",
       " (4492.6324, 4498.088040051541),\n",
       " (5434.0736, 5417.355289482309),\n",
       " (375.991, 357.39190149810634),\n",
       " (424.5944, 426.628912927622),\n",
       " (248.8232, 268.6357889849995),\n",
       " (3860.1224, 3858.2552391744957),\n",
       " (3496.5956, 3497.62908048456),\n",
       " (4979.998, 4969.8222562333995),\n",
       " (336.7088, 351.17767897063214),\n",
       " (4334.172000000001, 4345.68868742408),\n",
       " (2224.2518, 2217.810357814841),\n",
       " (4732.9862, 4727.168980506561),\n",
       " (2573.7968, 2569.2668265987354),\n",
       " (2195.6224, 2202.572318833521),\n",
       " (404.6204, 422.9164788887118),\n",
       " (3117.0896, 3109.850450890367),\n",
       " (2017.188, 2005.5060889132337),\n",
       " (2137.032, 2128.399880190665),\n",
       " (6687.775, 6715.57683293088),\n",
       " (4360.804, 4364.657238573601),\n",
       " (991.856, 991.8958092923438),\n",
       " (2078.4416, 2083.926778278032),\n",
       " (2553.8228, 2548.348587446784),\n",
       " (981.869, 983.3337912614564),\n",
       " (2455.9502, 2458.1552651200823),\n",
       " (765.4839999999998, 764.683166623408),\n",
       " (3202.9778, 3208.425978429172),\n",
       " (6155.135, 6145.484233300204),\n",
       " (732.194, 724.4274187305318),\n",
       " (1261.505, 1261.2227347312391),\n",
       " (286.108, 281.66703023740064),\n",
       " (2720.2728, 2717.066405791204),\n",
       " (1604.392, 1605.2736082714475),\n",
       " (3412.7048, 3414.8022532329055),\n",
       " (2704.2936, 2695.9437951568516),\n",
       " (3216.9596, 3218.048405480257),\n",
       " (3093.1208, 3091.37357424105),\n",
       " (1071.752, 1075.335169250465),\n",
       " (1368.6988, 1366.169578109438),\n",
       " (238.8362, 230.20486512605925),\n",
       " (2845.4432, 2852.1744344686017),\n",
       " (550.4306, 566.1919951891084),\n",
       " (3069.152, 3068.5691676872575),\n",
       " (1790.816, 1797.4532989390077),\n",
       " (4439.3684, 4431.072861552273),\n",
       " (1175.6168, 1176.619858592627),\n",
       " (1697.604, 1693.178890922949),\n",
       " (1250.1864, 1254.7200925795626),\n",
       " (6782.3186, 6806.436614015934),\n",
       " (2233.573, 2227.50607217766),\n",
       " (240.1678, 233.96117888780356),\n",
       " (3010.5616, 3001.9118829808262),\n",
       " (457.8844, 447.0531864117116),\n",
       " (2211.6016, 2210.986570556924),\n",
       " (642.311, 647.4277917979078),\n",
       " (1718.9096, 1716.9899618931886),\n",
       " (895.9808, 890.6798067061867),\n",
       " (796.1108, 802.5623712502096),\n",
       " (3320.8244, 3321.3618978506775),\n",
       " (834.0614, 826.0871542877765),\n",
       " (1178.28, 1178.634406619323),\n",
       " (681.5932, 675.4448934895577),\n",
       " (1557.1202, 1551.8584911948788),\n",
       " (1191.596, 1185.8764532385705),\n",
       " (2263.534, 2262.9821176356995),\n",
       " (2086.4312, 2086.9714797975994),\n",
       " (2350.088, 2358.888103307183),\n",
       " (224.1886, 200.7595333360621),\n",
       " (581.7232, 569.9146690853983),\n",
       " (2090.426, 2088.9735177612124),\n",
       " (3496.5956, 3497.62908048456),\n",
       " (1862.7224, 1862.5291539479256),\n",
       " (5339.53, 5350.4529763791825),\n",
       " (1099.7156, 1101.822483278809),\n",
       " (274.1236, 281.5603930255557),\n",
       " (2531.1856, 2531.648909717568),\n",
       " (6139.8216, 6131.33745261762),\n",
       " (342.0352, 351.45217477534965),\n",
       " (4691.0408, 4691.069461592212),\n",
       " (2977.2716, 2979.217197594319),\n",
       " (1222.2228, 1224.7669969359115),\n",
       " (6416.7944, 6427.77405222027),\n",
       " (5118.4844, 5106.892122198566),\n",
       " (1511.8458, 1516.4598512683897),\n",
       " (3692.3408, 3687.190730489625),\n",
       " (5169.751, 5162.922434203543),\n",
       " (2416.668, 2415.0260457539025),\n",
       " (923.9444, 918.7041628424608),\n",
       " (1338.072, 1340.027625412096),\n",
       " (2816.148, 2815.9758912227553),\n",
       " (3408.71, 3410.5643419041194),\n",
       " (4135.7636, 4130.361060662876),\n",
       " (2336.1062, 2340.899159483133),\n",
       " (203.5488, 197.63722226822168),\n",
       " (1963.924, 1970.0902731975411),\n",
       " (1583.0864, 1590.1230541191394),\n",
       " (3161.6982, 3162.5585070797747),\n",
       " (2579.789, 2572.6406659331465),\n",
       " (6994.0430000000015, 6972.307968155668),\n",
       " (1958.5976, 1961.4635901803636),\n",
       " (1629.0266, 1625.9029100518778),\n",
       " (3832.1588, 3832.987694618134),\n",
       " (2206.9410000000007, 2209.6995531057223),\n",
       " (4007.93, 4007.170214895967),\n",
       " (4320.856, 4337.257854846548),\n",
       " (4009.2616, 4007.170214895967),\n",
       " (2893.3808, 2884.9309191753173),\n",
       " (228.8492, 204.45376693324752),\n",
       " (1119.6896, 1113.0393509910098),\n",
       " (6039.2858, 6063.022619621791),\n",
       " (1159.6376, 1162.0269280501504),\n",
       " (4210.3332, 4204.154187205857),\n",
       " (1846.0774, 1843.1468690879026),\n",
       " (226.186, 202.2101110436597),\n",
       " (1295.4608, 1297.9505664776705),\n",
       " (3528.554, 3532.6638103696046),\n",
       " (2360.075, 2361.7463004051606),\n",
       " (2018.5196, 2005.6485651673509),\n",
       " (3275.55, 3273.7527729787225),\n",
       " (389.307, 391.8310070914249),\n",
       " (4283.5712, 4282.219904037188),\n",
       " (3077.1416, 3074.885650412402),\n",
       " (7956.124, 7937.905251759164),\n",
       " (2078.4416, 2083.926778278032),\n",
       " (364.6724, 353.95727837110803),\n",
       " (640.3136, 647.4277917979078),\n",
       " (3396.7256, 3390.056571508332),\n",
       " (4232.9704, 4230.217262837348),\n",
       " (2222.2544, 2217.4110004072254),\n",
       " (668.2772, 654.2533520799327),\n",
       " (531.1224, 536.7786436926674),\n",
       " (3791.545, 3794.7824959064296),\n",
       " (460.5476, 452.4001567496919),\n",
       " (3067.1546, 3068.358483180306),\n",
       " (1264.1682, 1262.258048541339),\n",
       " (3133.0688, 3127.637339538623),\n",
       " (440.5736, 429.1179512346067),\n",
       " (5482.0112, 5482.31900309539),\n",
       " (6320.9192, 6315.577648776974),\n",
       " (5523.9566, 5515.600872287945),\n",
       " (280.7816, 281.5603930255557),\n",
       " (223.5228, 200.36749363207377),\n",
       " (240.8336, 235.19939578672026),\n",
       " (2127.7108, 2120.4711110317016),\n",
       " (1936.6262, 1936.3046704777987),\n",
       " (1607.0552, 1605.8916751367774),\n",
       " (668.2772, 654.2533520799327),\n",
       " (2302.1504, 2299.4976366421615),\n",
       " (1401.9888, 1405.9169648620518),\n",
       " (235.5072, 216.95570364368152),\n",
       " (3451.3212, 3460.1597507745814),\n",
       " (284.7764, 281.5603930255557),\n",
       " (1081.739, 1087.9682373085373),\n",
       " (1391.336, 1396.8043141787764),\n",
       " (373.9936, 356.9169707769968),\n",
       " (5023.275, 5028.104202124215),\n",
       " (603.0288, 596.5885307337497),\n",
       " (1201.583, 1195.2738073560581),\n",
       " (6009.3248, 6019.373002937386),\n",
       " (602.363, 596.3183028297482),\n",
       " (3926.7024, 3928.467213739274),\n",
       " (662.9508, 651.6670622836449),\n",
       " (1425.9576, 1428.0220718789694),\n",
       " (210.2068, 197.63722226822168),\n",
       " (1109.0368, 1106.8062033160784),\n",
       " (1885.3596, 1890.9878654815489),\n",
       " (1611.05, 1608.0780125341216),\n",
       " (2302.1504, 2299.4976366421615),\n",
       " (2163.664, 2170.7899183515515),\n",
       " (1065.094, 1067.7372984543267),\n",
       " (871.3462, 879.4068885628119),\n",
       " (3445.329, 3453.0345651375787),\n",
       " (368.6672, 354.6800175067153),\n",
       " (1099.7156, 1101.822483278809),\n",
       " (2861.4224, 2864.9177079077244),\n",
       " (258.1444, 281.5603930255557),\n",
       " (2436.6420000000007, 2441.444435519562),\n",
       " (4063.1914, 4064.2552709934785),\n",
       " (1650.9979999999996, 1653.5225760525593),\n",
       " (4308.8716, 4327.457380969046),\n",
       " (579.06, 569.5531167460666),\n",
       " (1321.427, 1326.4462641660737),\n",
       " (542.441, 551.0135553132162),\n",
       " (2844.1116, 2850.8180098100006),\n",
       " (4055.8676, 4061.655947737879),\n",
       " (1718.9096, 1716.9899618931886),\n",
       " (1838.7536, 1829.5023532114997),\n",
       " (248.8232, 268.6357889849995),\n",
       " (2503.8878, 2505.427852688538),\n",
       " (1204.2462, 1201.3871736235553),\n",
       " (1255.5128, 1256.6243878129023),\n",
       " (1359.3776, 1350.736397915466),\n",
       " (254.8154, 281.5603930255557),\n",
       " (1401.323, 1405.9169648620518),\n",
       " (782.1289999999998, 795.085905735967),\n",
       " (184.9064, 197.63722226822168),\n",
       " (1408.6468, 1414.4219024744173),\n",
       " (3462.6398, 3474.1690392120477),\n",
       " (4726.9940000000015, 4715.472506143551),\n",
       " (1321.427, 1326.4462641660737),\n",
       " (1087.7312, 1092.0227336968596),\n",
       " (4278.2448, 4278.4361566211155),\n",
       " (153.6138, 197.63722226822168),\n",
       " (2554.4886, 2548.821724453334),\n",
       " (304.0846, 287.7358344802767),\n",
       " (7798.9952, 7829.381839955885),\n",
       " (2390.036, 2391.016933992104),\n",
       " (955.237, 955.4732264926201),\n",
       " (2654.3586, 2660.511635605169),\n",
       " (1820.777, 1812.8177714322903),\n",
       " (3085.1312, 3084.938270917725),\n",
       " (728.1992, 723.7032758391763),\n",
       " (2989.256, 2986.421183057422),\n",
       " (1191.596, 1185.8764532385705),\n",
       " (150.9506, 197.63722226822168),\n",
       " (800.1056, 803.4592848976328),\n",
       " (215.5332, 197.63722226822168),\n",
       " (2519.2012, 2519.751706179057),\n",
       " (1567.1072, 1563.8381813151834),\n",
       " (1934.6288, 1935.4664358862478),\n",
       " (3895.4098, 3881.3889607644724),\n",
       " (816.0848, 810.8253058444326),\n",
       " (652.298, 648.4907102654199),\n",
       " (1580.4232, 1587.5505974561931),\n",
       " (653.6296, 648.4907102654199),\n",
       " (229.515, 206.40754778266194),\n",
       " (852.038, 854.3056041977891),\n",
       " (1343.3984, 1344.2717241637722),\n",
       " (3531.883, 3532.8496229116663),\n",
       " (3255.576, 3257.7784594247837),\n",
       " (1658.9876, 1662.1479683325115),\n",
       " (1706.9252, 1704.8878659396928),\n",
       " (5464.0346, 5455.220080592862),\n",
       " (844.0484, 837.614512047804),\n",
       " (6544.6280000000015, 6525.831573598029),\n",
       " (706.8936, 717.7477736306289),\n",
       " (1501.8588, 1509.8034238654043),\n",
       " (1710.92, 1708.275335286519),\n",
       " (2164.9956, 2171.57196737203),\n",
       " (2659.685, 2663.941664579251),\n",
       " (1770.842, 1774.2239417814142),\n",
       " (1700.2672, 1694.9584897848274),\n",
       " (963.8924, 962.0415230155862),\n",
       " (2246.2232, 2244.1203191700897),\n",
       " (1401.323, 1405.9169648620518),\n",
       " (3119.087, 3110.641148717373),\n",
       " (571.0704, 568.4382841379924),\n",
       " (2170.9878, 2174.509296339815),\n",
       " (1370.0304, 1368.3735932782404),\n",
       " (603.0288, 596.5885307337497),\n",
       " (3527.8882, 3532.6638103696046),\n",
       " (5825.564, 5827.195770927306),\n",
       " (3734.2862, 3724.558304726647),\n",
       " (239.502, 231.6961682173396),\n",
       " (1800.1372, 1803.613526050991),\n",
       " (1391.336, 1396.8043141787764),\n",
       " (2579.789, 2572.6406659331465),\n",
       " (1421.297, 1424.3643203916708),\n",
       " (2905.3652, 2909.8802130654585),\n",
       " (3748.268, 3734.9418075052977),\n",
       " (326.056, 337.85235255506916),\n",
       " (5113.8238, 5106.892122198566),\n",
       " (3211.6332, 3214.795780088297),\n",
       " (1175.6168, 1176.619858592627),\n",
       " (3948.008, 3949.11055229984),\n",
       " (2573.7968, 2569.2668265987354),\n",
       " (6587.2392, 6566.171405140944),\n",
       " (419.268, 426.628912927622),\n",
       " (995.185, 996.7110664854043),\n",
       " (1907.331, 1906.5611770468433),\n",
       " (2206.2752, 2209.6995531057223),\n",
       " (4023.9092, 4037.584895449575),\n",
       " (1860.725, 1860.5699559956643),\n",
       " (1638.3478, 1633.9719670105885),\n",
       " (1757.526, 1758.7690602447794),\n",
       " (2722.936, 2720.763987483742),\n",
       " (2030.504, 2028.0903148679513),\n",
       " (1105.042, 1104.7574872125103),\n",
       " (682.2589999999999, 676.0455577948843),\n",
       " (3841.48, 3849.710138420222),\n",
       " (568.4072, 568.3162634026093),\n",
       " (559.7518, 568.1869688615919),\n",
       " (1338.072, 1340.027625412096),\n",
       " (1409.3126, 1415.0429722939396),\n",
       " (1850.738, 1849.713655647858),\n",
       " (336.7088, 351.17767897063214),\n",
       " (1551.128, 1545.0066257577914),\n",
       " (1010.4984, 1012.0516462634578),\n",
       " (1343.3984, 1344.2717241637722),\n",
       " (490.5086, 494.36085522948144),\n",
       " (360.6776, 352.60341838020366),\n",
       " (5314.2296, 5320.902123152613),\n",
       " (3531.883, 3532.8496229116663),\n",
       " (5146.448, 5144.1800543791815),\n",
       " (3655.056, 3665.4098247693805),\n",
       " (1007.8352, 1005.7319360809133),\n",
       " (427.2576, 426.628912927622),\n",
       " (3868.112, 3864.9478199856194),\n",
       " (4027.9040000000014, 4039.0196036018565),\n",
       " (2853.4328, 2861.026351145288),\n",
       " (3426.6866, 3429.993980961737),\n",
       " (587.0496, 571.6860191989476),\n",
       " (1742.8784, 1736.7324431138782),\n",
       " (852.038, 854.3056041977891),\n",
       " (776.1368, 786.5033692821838),\n",
       " (432.584, 426.8710217449261),\n",
       " (186.238, 197.63722226822168),\n",
       " (2729.594, 2731.7829959314677),\n",
       " (473.8636, 483.4657752628844),\n",
       " (1929.3024, 1922.026308470288),\n",
       " (3628.424, 3630.0003016824153),\n",
       " (2008.5326, 1999.7004027504013),\n",
       " (3548.528, 3541.909873615107),\n",
       " (1857.396, 1856.6655719371706),\n",
       " (1136.3346, 1135.926085299858),\n",
       " (1343.3984, 1344.2717241637722),\n",
       " (2469.932, 2468.632109451275),\n",
       " (6882.8544, 6884.0436232209695),\n",
       " (4363.4672, 4364.886658068689),\n",
       " (2134.3688, 2127.467945282304),\n",
       " (2365.4014, 2365.060371770039),\n",
       " (4251.6128, 4253.584906263819),\n",
       " (2127.045, 2120.4711110317016),\n",
       " (1247.5232, 1252.095988373118),\n",
       " (404.6204, 422.9164788887118),\n",
       " (1850.738, 1849.713655647858),\n",
       " (2925.3392, 2928.129681274141),\n",
       " (2150.348, 2150.673844763485),\n",
       " (1162.9666, 1166.0542790529223),\n",
       " (3287.5344, 3288.5401644071085),\n",
       " (5496.6588, 5493.714478170932),\n",
       " (1770.842, 1774.2239417814142),\n",
       " (409.281, 425.0653604128405),\n",
       " (646.3058, 647.930566600758),\n",
       " (995.8508, 997.3551566863212),\n",
       " (4149.7454, 4138.864899689171),\n",
       " (2710.2858, 2705.876564938572),\n",
       " (232.1782, 213.96455150392302),\n",
       " (1517.838, 1518.914517548422),\n",
       " (2149.6822, 2150.50396357204),\n",
       " (840.0536, 835.1119083525313),\n",
       " (215.5332, 197.63722226822168),\n",
       " (1770.842, 1774.2239417814142),\n",
       " (6033.2936, 6037.165139619735),\n",
       " (1718.9096, 1716.9899618931886),\n",
       " (757.4944, 753.6494604339207),\n",
       " (806.0978, 806.9649685707493),\n",
       " (2174.3168, 2177.113142196517),\n",
       " (318.0664, 310.7745451442102),\n",
       " (581.7232, 569.9146690853983),\n",
       " (1860.725, 1860.5699559956643),\n",
       " (691.5802, 696.4173333673801),\n",
       " (3743.6074, 3733.2029728855387),\n",
       " (943.9184, 946.486157733189),\n",
       " (1427.2892, 1428.5616141096875),\n",
       " (2970.6136, 2973.7587174860014),\n",
       " (1584.418, 1590.1230541191394),\n",
       " (4601.1578, 4594.646835763387),\n",
       " (409.9468, 425.1986419399173),\n",
       " (1278.15, 1268.026831842653),\n",
       " (2523.196, 2520.309997087214),\n",
       " (2070.452, 2078.1213892441915),\n",
       " (872.012, 879.4068885628119),\n",
       " (895.9808, 890.6798067061867),\n",
       " (1519.1696, 1519.038057531949),\n",
       " (2437.9736, 2444.873755178294),\n",
       " (1238.202, 1241.335677118005),\n",
       " (11106.6896, 10664.539952190627),\n",
       " (1644.34, 1644.478547436311),\n",
       " (7585.2734, 7573.677121276192),\n",
       " (1702.2646, 1695.20218850619),\n",
       " (1095.055, 1100.1239971309199),\n",
       " (1549.7964, 1544.8701677569063),\n",
       " (8251.7392, 8275.85696899961),\n",
       " (878.67, 881.6007993174687),\n",
       " (3138.3952, 3131.2133734618046),\n",
       " (6153.1376, 6145.484233300204),\n",
       " (6001.3352, 6018.532391822577),\n",
       " (7303.64, 7279.96593119808),\n",
       " (6836.2484, 6853.021085993548),\n",
       " (2222.2544, 2217.4110004072254),\n",
       " (1231.544, 1236.8843091150136),\n",
       " (2059.7992, 2068.8153858386722),\n",
       " (409.9468, 425.1986419399173),\n",
       " (3525.8908, 3531.586274073827),\n",
       " (1460.5792, 1447.888313824449),\n",
       " (4324.185, 4337.257854846548),\n",
       " (1427.2892, 1428.5616141096875),\n",
       " (2238.2336, 2235.082847999302),\n",
       " (3106.4368, 3104.6352151393326),\n",
       " (4278.2448, 4278.4361566211155),\n",
       " (2716.278, 2712.3583274152306),\n",
       " (3282.208, 3282.759077434412),\n",
       " (1204.2462, 1201.3871736235553),\n",
       " (1654.9928, 1654.6479245388002),\n",
       " (1617.708, 1612.796804980348),\n",
       " (949.2448, 949.345559365163),\n",
       " (2432.6472, 2434.6814482242985),\n",
       " (3186.9986, 3194.083402734344),\n",
       " (1682.9564, 1687.9115744439337),\n",
       " (1401.9888, 1405.9169648620518),\n",
       " (492.506, 494.5000352057696),\n",
       " (858.696, 868.1734924709062),\n",
       " (392.636, 404.79467080453867),\n",
       " (2030.504, 2028.0903148679513),\n",
       " (6708.4148, 6754.665418456637),\n",
       " (1189.5986, 1185.1667460701374),\n",
       " ...]"
      ]
     },
     "execution_count": 73,
     "metadata": {},
     "output_type": "execute_result"
    }
   ],
   "source": [
    "\n",
    "list(zip(Y_test,predicted_rf1))"
   ]
  },
  {
   "cell_type": "code",
   "execution_count": null,
   "metadata": {},
   "outputs": [],
   "source": []
  }
 ],
 "metadata": {
  "kernelspec": {
   "display_name": "Python 3",
   "language": "python",
   "name": "python3"
  },
  "language_info": {
   "codemirror_mode": {
    "name": "ipython",
    "version": 3
   },
   "file_extension": ".py",
   "mimetype": "text/x-python",
   "name": "python",
   "nbconvert_exporter": "python",
   "pygments_lexer": "ipython3",
   "version": "3.8.8"
  }
 },
 "nbformat": 4,
 "nbformat_minor": 2
}
